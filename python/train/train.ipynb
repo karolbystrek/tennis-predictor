{
 "cells": [
  {
   "cell_type": "code",
   "execution_count": 26,
   "metadata": {},
   "outputs": [],
   "source": [
    "import pandas as pd\n",
    "import xgboost as xgb\n",
    "from sklearn.model_selection import train_test_split\n",
    "from sklearn.metrics import accuracy_score, roc_auc_score, classification_report, confusion_matrix\n",
    "from sklearn.preprocessing import LabelEncoder\n",
    "from feature_engineering.difference_features import create_difference_features\n",
    "from feature_engineering.encode_features import encode_categorical_features\n",
    "\n",
    "MATCHES_PATH = 'data/matches/matches.csv'\n",
    "\n",
    "df = pd.read_csv(MATCHES_PATH)\n",
    "\n",
    "cols_to_keep = [\n",
    "    'surface', 'tourney_level', 'round', 'best_of',\n",
    "    'winner_hand', 'loser_hand', 'winner_ht', 'loser_ht',\n",
    "    'winner_age', 'loser_age', 'winner_rank', 'loser_rank',\n",
    "    'winner_rank_points', 'loser_rank_points',\n",
    "    'winner_elo', 'loser_elo', 'winner_surface_elo', 'loser_surface_elo'\n",
    "]\n",
    "\n",
    "df = df[cols_to_keep]\n",
    "df['target'] = 1"
   ]
  },
  {
   "cell_type": "code",
   "execution_count": null,
   "metadata": {},
   "outputs": [
    {
     "name": "stdout",
     "output_type": "stream",
     "text": [
      "surface\n",
      "Hard      62762\n",
      "Clay      43661\n",
      "Grass     12658\n",
      "Carpet    10425\n",
      "Name: count, dtype: int64\n",
      "tourney_level\n",
      "A    76350\n",
      "M    21056\n",
      "G    20002\n",
      "D    11500\n",
      "F      587\n",
      "O       64\n",
      "Name: count, dtype: int64\n",
      "['R32' 'R32' 'R32' ... 'SF' 'SF' 'F']\n",
      "best_of\n",
      "3    101279\n",
      "5     28280\n",
      "Name: count, dtype: int64\n"
     ]
    }
   ],
   "source": [
    "print(df['surface'].value_counts())\n",
    "print(df['tourney_level'].value_counts())\n",
    "print(df['best_of'].value_counts())"
   ]
  },
  {
   "cell_type": "code",
   "execution_count": 28,
   "metadata": {},
   "outputs": [
    {
     "name": "stdout",
     "output_type": "stream",
     "text": [
      "\n",
      "Calculated overall median height: 185.00\n",
      "Calculated overall median age: 25.30\n"
     ]
    },
    {
     "name": "stderr",
     "output_type": "stream",
     "text": [
      "/var/folders/2d/qvspt0d909g5twdwgdn52l6w0000gp/T/ipykernel_18328/3957939724.py:3: FutureWarning: A value is trying to be set on a copy of a DataFrame or Series through chained assignment using an inplace method.\n",
      "The behavior will change in pandas 3.0. This inplace method will never work because the intermediate object on which we are setting values always behaves as a copy.\n",
      "\n",
      "For example, when doing 'df[col].method(value, inplace=True)', try using 'df.method({col: value}, inplace=True)' or df[col] = df[col].method(value) instead, to perform the operation inplace on the original object.\n",
      "\n",
      "\n",
      "  df['winner_ht'].fillna(median_ht, inplace=True)\n",
      "/var/folders/2d/qvspt0d909g5twdwgdn52l6w0000gp/T/ipykernel_18328/3957939724.py:4: FutureWarning: A value is trying to be set on a copy of a DataFrame or Series through chained assignment using an inplace method.\n",
      "The behavior will change in pandas 3.0. This inplace method will never work because the intermediate object on which we are setting values always behaves as a copy.\n",
      "\n",
      "For example, when doing 'df[col].method(value, inplace=True)', try using 'df.method({col: value}, inplace=True)' or df[col] = df[col].method(value) instead, to perform the operation inplace on the original object.\n",
      "\n",
      "\n",
      "  df['loser_ht'].fillna(median_ht, inplace=True)\n",
      "/var/folders/2d/qvspt0d909g5twdwgdn52l6w0000gp/T/ipykernel_18328/3957939724.py:8: FutureWarning: A value is trying to be set on a copy of a DataFrame or Series through chained assignment using an inplace method.\n",
      "The behavior will change in pandas 3.0. This inplace method will never work because the intermediate object on which we are setting values always behaves as a copy.\n",
      "\n",
      "For example, when doing 'df[col].method(value, inplace=True)', try using 'df.method({col: value}, inplace=True)' or df[col] = df[col].method(value) instead, to perform the operation inplace on the original object.\n",
      "\n",
      "\n",
      "  df['winner_age'].fillna(median_age, inplace=True)\n",
      "/var/folders/2d/qvspt0d909g5twdwgdn52l6w0000gp/T/ipykernel_18328/3957939724.py:9: FutureWarning: A value is trying to be set on a copy of a DataFrame or Series through chained assignment using an inplace method.\n",
      "The behavior will change in pandas 3.0. This inplace method will never work because the intermediate object on which we are setting values always behaves as a copy.\n",
      "\n",
      "For example, when doing 'df[col].method(value, inplace=True)', try using 'df.method({col: value}, inplace=True)' or df[col] = df[col].method(value) instead, to perform the operation inplace on the original object.\n",
      "\n",
      "\n",
      "  df['loser_age'].fillna(median_age, inplace=True)\n"
     ]
    }
   ],
   "source": [
    "median_ht = pd.concat([df['winner_ht'], df['loser_ht']]).median()\n",
    "print(f\"\\nCalculated overall median height: {median_ht:.2f}\")\n",
    "df['winner_ht'].fillna(median_ht, inplace=True)\n",
    "df['loser_ht'].fillna(median_ht, inplace=True)\n",
    "\n",
    "median_age = pd.concat([df['winner_age'], df['loser_age']]).median()\n",
    "print(f\"Calculated overall median age: {median_age:.2f}\")\n",
    "df['winner_age'].fillna(median_age, inplace=True)\n",
    "df['loser_age'].fillna(median_age, inplace=True)"
   ]
  },
  {
   "cell_type": "code",
   "execution_count": 29,
   "metadata": {},
   "outputs": [],
   "source": [
    "cols_to_drop = ['loser_rank', 'winner_rank', 'surface', 'loser_hand', 'winner_hand']\n",
    "df.dropna(subset=cols_to_drop, inplace=True)"
   ]
  },
  {
   "cell_type": "code",
   "execution_count": 30,
   "metadata": {},
   "outputs": [],
   "source": [
    "player_col_suffixes = ['hand', 'ht', 'age', 'rank', 'rank_points', 'elo', 'surface_elo']\n",
    "rename_map_p1 = {f'winner_{suffix}': f'p1_{suffix}' for suffix in player_col_suffixes if f'winner_{suffix}' in df.columns}\n",
    "rename_map_p1.update({f'loser_{suffix}': f'p2_{suffix}' for suffix in player_col_suffixes if f'loser_{suffix}' in df.columns})\n",
    "rename_map_p2 = {f'winner_{suffix}': f'p2_{suffix}' for suffix in player_col_suffixes if f'winner_{suffix}' in df.columns}\n",
    "rename_map_p2.update({f'loser_{suffix}': f'p1_{suffix}' for suffix in player_col_suffixes if f'loser_{suffix}' in df.columns})\n",
    "\n",
    "df_p1 = df.rename(columns=rename_map_p1)\n",
    "df_p1['target'] = 1\n",
    "\n",
    "df_p2 = df.rename(columns=rename_map_p2)\n",
    "df_p2['target'] = 0\n",
    "\n",
    "df = pd.concat([df_p1, df_p2], ignore_index=True)"
   ]
  },
  {
   "cell_type": "code",
   "execution_count": 31,
   "metadata": {},
   "outputs": [
    {
     "data": {
      "text/plain": [
       "Index(['surface', 'tourney_level', 'round', 'best_of', 'p1_hand', 'p2_hand',\n",
       "       'p1_ht', 'p2_ht', 'p1_age', 'p2_age', 'p1_rank', 'p2_rank',\n",
       "       'p1_rank_points', 'p2_rank_points', 'p1_elo', 'p2_elo',\n",
       "       'p1_surface_elo', 'p2_surface_elo', 'target'],\n",
       "      dtype='object')"
      ]
     },
     "execution_count": 31,
     "metadata": {},
     "output_type": "execute_result"
    }
   ],
   "source": [
    "df.columns"
   ]
  },
  {
   "cell_type": "code",
   "execution_count": 32,
   "metadata": {},
   "outputs": [],
   "source": [
    "df = create_difference_features(df)\n",
    "df = encode_categorical_features(df)"
   ]
  },
  {
   "cell_type": "code",
   "execution_count": 33,
   "metadata": {},
   "outputs": [
    {
     "data": {
      "text/plain": [
       "Index(['best_of', 'target', 'ht_diff', 'age_diff', 'rank_diff',\n",
       "       'rank_points_diff', 'elo_diff', 'surface_elo_diff', 'surface_Carpet',\n",
       "       'surface_Clay', 'surface_Grass', 'surface_Hard', 'tourney_level_A',\n",
       "       'tourney_level_D', 'tourney_level_F', 'tourney_level_G',\n",
       "       'tourney_level_M', 'tourney_level_O', 'round_BR', 'round_ER', 'round_F',\n",
       "       'round_QF', 'round_R128', 'round_R16', 'round_R32', 'round_R64',\n",
       "       'round_RR', 'round_SF', 'p1_hand_A', 'p1_hand_L', 'p1_hand_R',\n",
       "       'p1_hand_U', 'p2_hand_A', 'p2_hand_L', 'p2_hand_R', 'p2_hand_U'],\n",
       "      dtype='object')"
      ]
     },
     "execution_count": 33,
     "metadata": {},
     "output_type": "execute_result"
    }
   ],
   "source": [
    "df.columns"
   ]
  },
  {
   "cell_type": "code",
   "execution_count": 34,
   "metadata": {},
   "outputs": [],
   "source": [
    "X = df.drop('target', axis=1)\n",
    "y = df['target']"
   ]
  },
  {
   "cell_type": "code",
   "execution_count": null,
   "metadata": {},
   "outputs": [
    {
     "name": "stderr",
     "output_type": "stream",
     "text": [
      "/opt/conda/miniforge3/envs/ml/lib/python3.11/site-packages/xgboost/training.py:183: UserWarning: [19:25:54] WARNING: /Users/runner/miniforge3/conda-bld/xgboost-split_1744352353999/work/src/learner.cc:738: \n",
      "Parameters: { \"use_label_encoder\" } are not used.\n",
      "\n",
      "  bst.update(dtrain, iteration=i, fobj=obj)\n"
     ]
    },
    {
     "name": "stdout",
     "output_type": "stream",
     "text": [
      "Accuracy: 0.6717\n",
      "ROC AUC Score: 0.7381\n",
      "\n",
      "Classification Report:\n",
      "              precision    recall  f1-score   support\n",
      "\n",
      "           0       0.67      0.67      0.67     25092\n",
      "           1       0.67      0.67      0.67     25092\n",
      "\n",
      "    accuracy                           0.67     50184\n",
      "   macro avg       0.67      0.67      0.67     50184\n",
      "weighted avg       0.67      0.67      0.67     50184\n",
      "\n",
      "\n",
      "Confusion Matrix:\n",
      "[[16837  8255]\n",
      " [ 8220 16872]]\n",
      "             Feature  Importance\n",
      "5           elo_diff    0.296588\n",
      "3          rank_diff    0.071232\n",
      "6   surface_elo_diff    0.059271\n",
      "0            best_of    0.052289\n",
      "14   tourney_level_G    0.030584\n",
      "2           age_diff    0.029978\n",
      "9      surface_Grass    0.028674\n",
      "25          round_RR    0.026010\n",
      "33         p2_hand_R    0.022559\n",
      "12   tourney_level_D    0.022128\n",
      "8       surface_Clay    0.020615\n",
      "7     surface_Carpet    0.020213\n",
      "32         p2_hand_L    0.018749\n",
      "28         p1_hand_L    0.018167\n",
      "4   rank_points_diff    0.018014\n"
     ]
    }
   ],
   "source": [
    "X_train, X_test, y_train, y_test = train_test_split(X, y, test_size=0.2, random_state=42, stratify=y)\n",
    "\n",
    "\n",
    "xgb_model = xgb.XGBClassifier(\n",
    "    objective='binary:logistic',\n",
    "    eval_metric='logloss',\n",
    "    use_label_encoder=False,\n",
    "    random_state=42\n",
    ")\n",
    "xgb_model.fit(X_train, y_train)\n",
    "\n",
    "\n",
    "y_pred_proba = xgb_model.predict_proba(X_test)[:, 1]\n",
    "y_pred = xgb_model.predict(X_test)\n",
    "accuracy = accuracy_score(y_test, y_pred)\n",
    "roc_auc = roc_auc_score(y_test, y_pred_proba)\n",
    "\n",
    "print(f\"Accuracy: {accuracy:.4f}\")\n",
    "print(f\"ROC AUC Score: {roc_auc:.4f}\")\n",
    "print(\"\\nClassification Report:\")\n",
    "print(classification_report(y_test, y_pred))\n",
    "print(\"\\nConfusion Matrix:\")\n",
    "print(confusion_matrix(y_test, y_pred))\n",
    "\n",
    "\n",
    "feature_importances = pd.DataFrame({\n",
    "    'Feature': X.columns,\n",
    "    'Importance': xgb_model.feature_importances_\n",
    "}).sort_values(by='Importance', ascending=False)\n",
    "print(feature_importances.head(15))\n"
   ]
  },
  {
   "cell_type": "code",
   "execution_count": 36,
   "metadata": {},
   "outputs": [],
   "source": [
    "xgb_model.save_model('data/models/xgboost_tennis_model.ubj')"
   ]
  },
  {
   "cell_type": "code",
   "execution_count": 37,
   "metadata": {},
   "outputs": [
    {
     "data": {
      "text/plain": [
       "Index(['best_of', 'target', 'ht_diff', 'age_diff', 'rank_diff',\n",
       "       'rank_points_diff', 'elo_diff', 'surface_elo_diff', 'surface_Carpet',\n",
       "       'surface_Clay', 'surface_Grass', 'surface_Hard', 'tourney_level_A',\n",
       "       'tourney_level_D', 'tourney_level_F', 'tourney_level_G',\n",
       "       'tourney_level_M', 'tourney_level_O', 'round_BR', 'round_ER', 'round_F',\n",
       "       'round_QF', 'round_R128', 'round_R16', 'round_R32', 'round_R64',\n",
       "       'round_RR', 'round_SF', 'p1_hand_A', 'p1_hand_L', 'p1_hand_R',\n",
       "       'p1_hand_U', 'p2_hand_A', 'p2_hand_L', 'p2_hand_R', 'p2_hand_U'],\n",
       "      dtype='object')"
      ]
     },
     "execution_count": 37,
     "metadata": {},
     "output_type": "execute_result"
    }
   ],
   "source": [
    "df.columns"
   ]
  },
  {
   "cell_type": "code",
   "execution_count": null,
   "metadata": {},
   "outputs": [],
   "source": []
  }
 ],
 "metadata": {
  "kernelspec": {
   "display_name": "ml",
   "language": "python",
   "name": "python3"
  },
  "language_info": {
   "codemirror_mode": {
    "name": "ipython",
    "version": 3
   },
   "file_extension": ".py",
   "mimetype": "text/x-python",
   "name": "python",
   "nbconvert_exporter": "python",
   "pygments_lexer": "ipython3",
   "version": "3.11.11"
  }
 },
 "nbformat": 4,
 "nbformat_minor": 2
}
